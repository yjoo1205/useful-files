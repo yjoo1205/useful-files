{
 "cells": [
  {
   "cell_type": "markdown",
   "metadata": {},
   "source": [
    "# Python Tester\n",
    "\n",
    "This is a simple file to build your test cases and test your python functions. "
   ]
  },
  {
   "cell_type": "markdown",
   "metadata": {},
   "source": [
    "# 1. Unit Test\n",
    "\n",
    "A unit is a specific piece of code to be tested, such as a function or a class. Unit tests are then other pieces of code that specifically exercise the code unit with a full range of different inputs, including boundary and edge cases. Both the unittest and pytest frameworks can be used to write unit tests.\n",
    "\n",
    "(Source:https://code.visualstudio.com/docs/python/testing) "
   ]
  },
  {
   "cell_type": "markdown",
   "metadata": {},
   "source": [
    "### Define your function"
   ]
  },
  {
   "cell_type": "code",
   "execution_count": 1,
   "metadata": {},
   "outputs": [],
   "source": [
    "# Example function to test\n",
    "def yourfunction(a, b):\n",
    "    return a + b"
   ]
  },
  {
   "cell_type": "markdown",
   "metadata": {},
   "source": [
    "### Let's test it out"
   ]
  },
  {
   "cell_type": "code",
   "execution_count": 2,
   "metadata": {},
   "outputs": [],
   "source": [
    "import unittest\n",
    "\n",
    "class TestFunction(unittest.TestCase):\n",
    "    \n",
    "    def test_add(self):\n",
    "        self.assertEqual(yourfunction(1, 2), 3) # function & expected result eg.checks if the function returns 3 \n",
    "        self.assertEqual(yourfunction(-1, 1), 0)\n",
    "        self.assertEqual(yourfunction(-1, -1), -2)\n",
    "\n",
    "def run_tests():\n",
    "    suite = unittest.TestLoader().loadTestsFromTestCase(TestFunction)\n",
    "    unittest.TextTestRunner().run(suite)"
   ]
  },
  {
   "cell_type": "code",
   "execution_count": 3,
   "metadata": {},
   "outputs": [
    {
     "name": "stderr",
     "output_type": "stream",
     "text": [
      ".\n",
      "----------------------------------------------------------------------\n",
      "Ran 1 test in 0.005s\n",
      "\n",
      "OK\n"
     ]
    }
   ],
   "source": [
    "run_tests()"
   ]
  },
  {
   "cell_type": "markdown",
   "metadata": {},
   "source": [
    "# Build your own dataset & test function\n",
    "\n",
    "This is useful for python online assessments. "
   ]
  },
  {
   "cell_type": "markdown",
   "metadata": {},
   "source": [
    "### Method 1: Load dataset "
   ]
  },
  {
   "cell_type": "code",
   "execution_count": null,
   "metadata": {},
   "outputs": [],
   "source": [
    "# Load dataset, make sure the csv file is in the same folder \n",
    "data = pd.read_csv(\"creditcard.csv\")     \n",
    "data.head(5)"
   ]
  },
  {
   "cell_type": "markdown",
   "metadata": {},
   "source": [
    "### Method 2 : Create your own dataset"
   ]
  },
  {
   "cell_type": "code",
   "execution_count": null,
   "metadata": {},
   "outputs": [],
   "source": [
    "import pandas as pd\n",
    "import re\n",
    "\n",
    "# Sample data loading - adjust this according to your actual data source\n",
    "address_df = pd.DataFrame({\n",
    "    'Address': ['#01-01, 10000',\n",
    "                '#fb01-01, 10000',\n",
    "                '#01-01#02-01',\n",
    "                '#01-#02-01 10000', \n",
    "                'Blk101, floor 10, unit 10',  \n",
    "                'Street 100',  \n",
    "                '17 Petir Rd, #B2-20 678278',  \n",
    "                'floor12',\n",
    "                ' F12 ', \n",
    "                ' B12 ', \n",
    "                ' # 12B ',\n",
    "                ' Fat12 ',\n",
    "                ' 12Foyer ',\n",
    "                'floor 23', \n",
    "                '# 23', \n",
    "                '123 South King Drive, #72 Chicago, IL, USA', \n",
    "                '# 01-01','#01 -01, 10000']\n",
    "})\n",
    "\n",
    "print(address_df)"
   ]
  },
  {
   "cell_type": "markdown",
   "metadata": {},
   "source": [
    "### Define function"
   ]
  },
  {
   "cell_type": "code",
   "execution_count": null,
   "metadata": {},
   "outputs": [],
   "source": [
    "def get_floor(address):\n",
    "    address_cleaned = re.sub(r'#\\s+', '#', address)\n",
    "    address_cleaned = re.sub(r'\\s+-', '-', address_cleaned)\n",
    "    match = re.search(\n",
    "        r'(?:flr\\s*|floor\\s*|fl\\.?\\s*|fllor\\s*|florr\\s*)(\\d+|B\\d+)|' +\n",
    "        r'#(B?\\d{1,2})\\s*-\\s*\\d{2}|\\bF(\\d+|B\\d+)\\b|\\b(\\d+|B\\d+)F\\b',\n",
    "        address_cleaned, re.IGNORECASE) \n",
    "    if match:\n",
    "        return next((m for m in match.groups() if m is not None), None)\n",
    "    else:\n",
    "        return None"
   ]
  },
  {
   "cell_type": "markdown",
   "metadata": {},
   "source": [
    "### Test the function - create a new column for each output "
   ]
  },
  {
   "cell_type": "code",
   "execution_count": null,
   "metadata": {},
   "outputs": [],
   "source": [
    "address_df['Floor'] = address_df['Address'].apply(get_floor)\n",
    "\n",
    "# Output for review\n",
    "print(\"This is the test results:\")\n",
    "print(address_df)"
   ]
  }
 ],
 "metadata": {
  "kernelspec": {
   "display_name": "Python 3",
   "language": "python",
   "name": "python3"
  },
  "language_info": {
   "codemirror_mode": {
    "name": "ipython",
    "version": 3
   },
   "file_extension": ".py",
   "mimetype": "text/x-python",
   "name": "python",
   "nbconvert_exporter": "python",
   "pygments_lexer": "ipython3",
   "version": "3.7.4"
  }
 },
 "nbformat": 4,
 "nbformat_minor": 2
}
